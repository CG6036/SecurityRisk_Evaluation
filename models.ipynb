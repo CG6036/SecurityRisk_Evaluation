{
 "cells": [
  {
   "cell_type": "markdown",
   "metadata": {},
   "source": [
    "### Random Forest using Sampling Techniques"
   ]
  },
  {
   "cell_type": "code",
   "execution_count": 1,
   "metadata": {},
   "outputs": [],
   "source": [
    "import pandas as pd\n",
    "import numpy as np\n",
    "import matplotlib.pyplot as plt\n",
    "from sklearn.model_selection import train_test_split\n",
    "from sklearn.feature_extraction.text import CountVectorizer\n",
    "from sklearn.metrics import accuracy_score, confusion_matrix, roc_auc_score, roc_curve\n",
    "from sklearn.ensemble import RandomForestClassifier\n",
    "from sklearn.model_selection import GridSearchCV\n",
    "import seaborn as sns\n",
    "from tqdm import tqdm\n",
    "\n",
    "df_s1 = pd.read_csv('sample1.csv')\n",
    "df_s2 = pd.read_csv('sample2.csv')\n",
    "df_s3 = pd.read_csv('sample3.csv')"
   ]
  },
  {
   "cell_type": "code",
   "execution_count": 2,
   "metadata": {},
   "outputs": [],
   "source": [
    "def preProcess(data):\n",
    "    X_train, X_test, y_train, y_test = train_test_split(data['full_log'], data['level'], test_size=0.2, random_state=96)\n",
    "    # full_log에서 숫자는 마스킹 처리.\n",
    "    X_train = X_train.str.replace(r'[0-9]', '<num>')\n",
    "    X_test = X_test.str.replace(r'[0-9]', '<num>')\n",
    "    # to list\n",
    "    train_text = list(X_train)\n",
    "    train_level = np.array(y_train)\n",
    "    # CountVectorizer\n",
    "    vectorizer = CountVectorizer(analyzer = 'word', max_features = 10000)\n",
    "    train_features = vectorizer.fit_transform(train_text)\n",
    "    # Model Development (Split validation set)\n",
    "    X_train, X_valid, y_train, y_valid = train_test_split(train_features, train_level, test_size=0.25, random_state=42)\n",
    "    test_text = list(X_test)\n",
    "    test_level = np.array(y_test)\n",
    "    test_features = vectorizer.transform(test_text)\n",
    "    return X_train, X_valid, y_train, y_valid, test_features, y_test"
   ]
  },
  {
   "cell_type": "code",
   "execution_count": 3,
   "metadata": {},
   "outputs": [],
   "source": [
    "# Score Metrics\n",
    "from sklearn import metrics\n",
    "def macro_f1(result_df):\n",
    "    \n",
    "    true = result_df['True']\n",
    "    pred = result_df['Pred']\n",
    "    \n",
    "    score = metrics.f1_score(y_true=true, y_pred=pred, average='macro')\n",
    "    \n",
    "    return score\n",
    "def macro_recall(result_df):\n",
    "    true = result_df['True']\n",
    "    pred = result_df['Pred']\n",
    "    # Generate the confusion matrix\n",
    "    cm = confusion_matrix(true, pred)\n",
    "    # Calculate recall for each class\n",
    "    recalls = np.diag(cm) / np.sum(cm, axis=1)\n",
    "    # Calculate macro recall by averaging recalls\n",
    "    macro_recall = np.nanmean(recalls)  # Use nanmean to handle classes with 0 instances in y_true\n",
    "    return macro_recall"
   ]
  },
  {
   "cell_type": "markdown",
   "metadata": {},
   "source": [
    "### 1) RF_Sample 1"
   ]
  },
  {
   "cell_type": "code",
   "execution_count": 3,
   "metadata": {},
   "outputs": [],
   "source": [
    "# preProcess Data\n",
    "X_train, X_valid, y_train, y_valid, test_features, y_test = preProcess(df_s1)"
   ]
  },
  {
   "cell_type": "code",
   "execution_count": 53,
   "metadata": {},
   "outputs": [
    {
     "name": "stdout",
     "output_type": "stream",
     "text": [
      "{'n_estimators': 100}\n"
     ]
    }
   ],
   "source": [
    "# Define the parameter grid to search\n",
    "rf_param_grid = {\n",
    "    'n_estimators': [1, 50, 100],  # Number of trees in the forest\n",
    "    #'max_depth': [1, 2, 3, 4],  # Maximum depth of the tree\n",
    "}\n",
    "\n",
    "# Initialize the classifier\n",
    "rf1 = RandomForestClassifier()\n",
    "\n",
    "# Initialize the Grid Search model\n",
    "grid_search_rf1 = GridSearchCV(estimator=rf1, param_grid=rf_param_grid, cv=5, scoring='recall_macro')\n",
    "\n",
    "# Fit the grid search to the data\n",
    "grid_search_rf1.fit(X_train, y_train)\n",
    "\n",
    "# Best hyperparameters\n",
    "print(grid_search_rf1.best_params_)"
   ]
  },
  {
   "cell_type": "code",
   "execution_count": 54,
   "metadata": {},
   "outputs": [
    {
     "data": {
      "text/html": [
       "<div>\n",
       "<style scoped>\n",
       "    .dataframe tbody tr th:only-of-type {\n",
       "        vertical-align: middle;\n",
       "    }\n",
       "\n",
       "    .dataframe tbody tr th {\n",
       "        vertical-align: top;\n",
       "    }\n",
       "\n",
       "    .dataframe thead th {\n",
       "        text-align: right;\n",
       "    }\n",
       "</style>\n",
       "<table border=\"1\" class=\"dataframe\">\n",
       "  <thead>\n",
       "    <tr style=\"text-align: right;\">\n",
       "      <th></th>\n",
       "      <th>params</th>\n",
       "      <th>mean_test_score</th>\n",
       "      <th>std_test_score</th>\n",
       "    </tr>\n",
       "  </thead>\n",
       "  <tbody>\n",
       "    <tr>\n",
       "      <th>0</th>\n",
       "      <td>{'n_estimators': 1}</td>\n",
       "      <td>0.982883</td>\n",
       "      <td>0.003539</td>\n",
       "    </tr>\n",
       "    <tr>\n",
       "      <th>1</th>\n",
       "      <td>{'n_estimators': 50}</td>\n",
       "      <td>0.988259</td>\n",
       "      <td>0.001600</td>\n",
       "    </tr>\n",
       "    <tr>\n",
       "      <th>2</th>\n",
       "      <td>{'n_estimators': 100}</td>\n",
       "      <td>0.988366</td>\n",
       "      <td>0.001468</td>\n",
       "    </tr>\n",
       "  </tbody>\n",
       "</table>\n",
       "</div>"
      ],
      "text/plain": [
       "                  params  mean_test_score  std_test_score\n",
       "0    {'n_estimators': 1}         0.982883        0.003539\n",
       "1   {'n_estimators': 50}         0.988259        0.001600\n",
       "2  {'n_estimators': 100}         0.988366        0.001468"
      ]
     },
     "execution_count": 54,
     "metadata": {},
     "output_type": "execute_result"
    }
   ],
   "source": [
    "pd.DataFrame(grid_search_rf1.cv_results_)[['params', 'mean_test_score', 'std_test_score']]"
   ]
  },
  {
   "cell_type": "code",
   "execution_count": 58,
   "metadata": {},
   "outputs": [
    {
     "name": "stdout",
     "output_type": "stream",
     "text": [
      "[RF for Sample_1] Macro Recall =  0.9942159268018286\n",
      "[RF for Sample_1] Macro Recall =  0.9920028994929287\n"
     ]
    }
   ],
   "source": [
    "# Validation Performance\n",
    "val_pred = grid_search_rf1.best_estimator_.predict(X_valid)\n",
    "result_rf_val1 = pd.DataFrame({'True': y_valid, 'Pred': val_pred})\n",
    "f1_r1 = macro_f1(result_rf_val1)\n",
    "recall_rf1 = macro_recall(result_rf_val1)\n",
    "print(\"[RF for Sample_1] Macro F1 Score = \", f1_r1)\n",
    "print(\"[RF for Sample_1] Macro Recall = \", recall_rf1)"
   ]
  },
  {
   "cell_type": "markdown",
   "metadata": {},
   "source": [
    "### 2) RF Sample 2"
   ]
  },
  {
   "cell_type": "code",
   "execution_count": 59,
   "metadata": {},
   "outputs": [],
   "source": [
    "X_train, X_valid, y_train, y_valid, test_features, y_test = preProcess(df_s2)"
   ]
  },
  {
   "cell_type": "code",
   "execution_count": 60,
   "metadata": {},
   "outputs": [
    {
     "name": "stdout",
     "output_type": "stream",
     "text": [
      "{'n_estimators': 100}\n"
     ]
    }
   ],
   "source": [
    "# Initialize the classifier\n",
    "rf2 = RandomForestClassifier()\n",
    "\n",
    "# Initialize the Grid Search model\n",
    "grid_search_rf2 = GridSearchCV(estimator=rf2, param_grid=rf_param_grid, cv=5, scoring='recall_macro')\n",
    "\n",
    "# Fit the grid search to the data\n",
    "grid_search_rf2.fit(X_train, y_train)\n",
    "\n",
    "# Best hyperparameters\n",
    "print(grid_search_rf2.best_params_)"
   ]
  },
  {
   "cell_type": "code",
   "execution_count": 62,
   "metadata": {},
   "outputs": [
    {
     "data": {
      "text/html": [
       "<div>\n",
       "<style scoped>\n",
       "    .dataframe tbody tr th:only-of-type {\n",
       "        vertical-align: middle;\n",
       "    }\n",
       "\n",
       "    .dataframe tbody tr th {\n",
       "        vertical-align: top;\n",
       "    }\n",
       "\n",
       "    .dataframe thead th {\n",
       "        text-align: right;\n",
       "    }\n",
       "</style>\n",
       "<table border=\"1\" class=\"dataframe\">\n",
       "  <thead>\n",
       "    <tr style=\"text-align: right;\">\n",
       "      <th></th>\n",
       "      <th>params</th>\n",
       "      <th>mean_test_score</th>\n",
       "      <th>std_test_score</th>\n",
       "    </tr>\n",
       "  </thead>\n",
       "  <tbody>\n",
       "    <tr>\n",
       "      <th>0</th>\n",
       "      <td>{'n_estimators': 1}</td>\n",
       "      <td>0.984327</td>\n",
       "      <td>0.002545</td>\n",
       "    </tr>\n",
       "    <tr>\n",
       "      <th>1</th>\n",
       "      <td>{'n_estimators': 50}</td>\n",
       "      <td>0.990118</td>\n",
       "      <td>0.001975</td>\n",
       "    </tr>\n",
       "    <tr>\n",
       "      <th>2</th>\n",
       "      <td>{'n_estimators': 100}</td>\n",
       "      <td>0.990307</td>\n",
       "      <td>0.002511</td>\n",
       "    </tr>\n",
       "  </tbody>\n",
       "</table>\n",
       "</div>"
      ],
      "text/plain": [
       "                  params  mean_test_score  std_test_score\n",
       "0    {'n_estimators': 1}         0.984327        0.002545\n",
       "1   {'n_estimators': 50}         0.990118        0.001975\n",
       "2  {'n_estimators': 100}         0.990307        0.002511"
      ]
     },
     "execution_count": 62,
     "metadata": {},
     "output_type": "execute_result"
    }
   ],
   "source": [
    "pd.DataFrame(grid_search_rf2.cv_results_)[['params', 'mean_test_score', 'std_test_score']]"
   ]
  },
  {
   "cell_type": "code",
   "execution_count": 64,
   "metadata": {},
   "outputs": [
    {
     "name": "stdout",
     "output_type": "stream",
     "text": [
      "[RF for Sample_2] Macro F1 Score =  0.991508088263535\n",
      "[RF for Sample_2] Macro Recall =  0.9889846644130609\n"
     ]
    }
   ],
   "source": [
    "# Validation Performance\n",
    "val_pred = grid_search_rf2.best_estimator_.predict(X_valid)\n",
    "result_rf_val2 = pd.DataFrame({'True': y_valid, 'Pred': val_pred})\n",
    "f1_r2 = macro_f1(result_rf_val2)\n",
    "recall_rf2 = macro_recall(result_rf_val2)\n",
    "print(\"[RF for Sample_2] Macro F1 Score = \", f1_r2)\n",
    "print(\"[RF for Sample_2] Macro Recall = \", recall_rf2)"
   ]
  },
  {
   "cell_type": "markdown",
   "metadata": {},
   "source": [
    "### 3) RF Sample 3"
   ]
  },
  {
   "cell_type": "code",
   "execution_count": 65,
   "metadata": {},
   "outputs": [
    {
     "name": "stdout",
     "output_type": "stream",
     "text": [
      "{'n_estimators': 100}\n"
     ]
    }
   ],
   "source": [
    "X_train, X_valid, y_train, y_valid, test_features, y_test = preProcess(df_s3)\n",
    "# Initialize the classifier\n",
    "rf3 = RandomForestClassifier()\n",
    "# Initialize the Grid Search model\n",
    "grid_search_rf3 = GridSearchCV(estimator=rf3, param_grid=rf_param_grid, cv=5, scoring='recall_macro')\n",
    "# Fit the grid search to the data\n",
    "grid_search_rf3.fit(X_train, y_train)\n",
    "# Best hyperparameters\n",
    "print(grid_search_rf3.best_params_)"
   ]
  },
  {
   "cell_type": "code",
   "execution_count": 66,
   "metadata": {},
   "outputs": [
    {
     "data": {
      "text/html": [
       "<div>\n",
       "<style scoped>\n",
       "    .dataframe tbody tr th:only-of-type {\n",
       "        vertical-align: middle;\n",
       "    }\n",
       "\n",
       "    .dataframe tbody tr th {\n",
       "        vertical-align: top;\n",
       "    }\n",
       "\n",
       "    .dataframe thead th {\n",
       "        text-align: right;\n",
       "    }\n",
       "</style>\n",
       "<table border=\"1\" class=\"dataframe\">\n",
       "  <thead>\n",
       "    <tr style=\"text-align: right;\">\n",
       "      <th></th>\n",
       "      <th>params</th>\n",
       "      <th>mean_test_score</th>\n",
       "      <th>std_test_score</th>\n",
       "    </tr>\n",
       "  </thead>\n",
       "  <tbody>\n",
       "    <tr>\n",
       "      <th>0</th>\n",
       "      <td>{'n_estimators': 1}</td>\n",
       "      <td>0.984998</td>\n",
       "      <td>0.002703</td>\n",
       "    </tr>\n",
       "    <tr>\n",
       "      <th>1</th>\n",
       "      <td>{'n_estimators': 50}</td>\n",
       "      <td>0.995864</td>\n",
       "      <td>0.001384</td>\n",
       "    </tr>\n",
       "    <tr>\n",
       "      <th>2</th>\n",
       "      <td>{'n_estimators': 100}</td>\n",
       "      <td>0.996061</td>\n",
       "      <td>0.001805</td>\n",
       "    </tr>\n",
       "  </tbody>\n",
       "</table>\n",
       "</div>"
      ],
      "text/plain": [
       "                  params  mean_test_score  std_test_score\n",
       "0    {'n_estimators': 1}         0.984998        0.002703\n",
       "1   {'n_estimators': 50}         0.995864        0.001384\n",
       "2  {'n_estimators': 100}         0.996061        0.001805"
      ]
     },
     "execution_count": 66,
     "metadata": {},
     "output_type": "execute_result"
    }
   ],
   "source": [
    "pd.DataFrame(grid_search_rf3.cv_results_)[['params', 'mean_test_score', 'std_test_score']]"
   ]
  },
  {
   "cell_type": "code",
   "execution_count": 67,
   "metadata": {},
   "outputs": [
    {
     "name": "stdout",
     "output_type": "stream",
     "text": [
      "[RF for Sample_2] Macro F1 Score =  0.9955430316619064\n",
      "[RF for Sample_2] Macro Recall =  0.9954034769895754\n"
     ]
    }
   ],
   "source": [
    "# Validation Performance\n",
    "val_pred = grid_search_rf3.best_estimator_.predict(X_valid)\n",
    "result_rf_val3 = pd.DataFrame({'True': y_valid, 'Pred': val_pred})\n",
    "f1_r3 = macro_f1(result_rf_val3)\n",
    "recall_rf3 = macro_recall(result_rf_val3)\n",
    "print(\"[RF for Sample_2] Macro F1 Score = \", f1_r3)\n",
    "print(\"[RF for Sample_2] Macro Recall = \", recall_rf3)"
   ]
  },
  {
   "cell_type": "markdown",
   "metadata": {},
   "source": [
    "## RF Model Selection (Sample 3)"
   ]
  },
  {
   "cell_type": "code",
   "execution_count": 69,
   "metadata": {},
   "outputs": [
    {
     "name": "stdout",
     "output_type": "stream",
     "text": [
      "[Test] Macro F1 Score =  0.993770656184195\n",
      "[Test] Macro Recall Score =  0.993832284857615\n"
     ]
    }
   ],
   "source": [
    "# Test set prediction for sample 3\n",
    "test_pred = grid_search_rf3.best_estimator_.predict(test_features)\n",
    "test_crosstab = pd.crosstab(y_test, test_pred, rownames = ['True'], colnames = ['Pred'])\n",
    "result_test_rf = pd.DataFrame({'True': y_test, 'Pred': test_pred})\n",
    "print(\"[Test] Macro F1 Score = \", macro_f1(result_test_rf))\n",
    "print(\"[Test] Macro Recall Score = \", macro_recall(result_test_rf))"
   ]
  },
  {
   "cell_type": "markdown",
   "metadata": {},
   "source": [
    "# XGBosost"
   ]
  },
  {
   "cell_type": "code",
   "execution_count": 4,
   "metadata": {},
   "outputs": [],
   "source": [
    "# Model Devleopment\n",
    "from xgboost import XGBClassifier\n",
    "from sklearn.model_selection import GridSearchCV"
   ]
  },
  {
   "cell_type": "markdown",
   "metadata": {},
   "source": [
    "### 1) XGBoost Sample 1"
   ]
  },
  {
   "cell_type": "code",
   "execution_count": 22,
   "metadata": {},
   "outputs": [
    {
     "name": "stdout",
     "output_type": "stream",
     "text": [
      "Best Parameters: {'learning_rate': 0.2, 'max_depth': 3}\n",
      "Best Score: 0.9883841302215698\n"
     ]
    }
   ],
   "source": [
    "# Load Data\n",
    "X_train, X_valid, y_train, y_valid, test_features, y_test = preProcess(df_s1)\n",
    "# Define XGBoost model\n",
    "xgb_clf = XGBClassifier(use_label_encoder=False, eval_metric='logloss')\n",
    "\n",
    "# Define parameter grid\n",
    "xgb_param_grid = {\n",
    "    'max_depth': [1, 2, 3],\n",
    "    'learning_rate': [0.01, 0.1, 0.2]\n",
    "}\n",
    "\n",
    "# Set up GridSearchCV\n",
    "xgb_grid_search1 = GridSearchCV(estimator=xgb_clf, param_grid=xgb_param_grid, scoring='recall_macro', n_jobs=-1, cv=5)\n",
    "\n",
    "# Fit GridSearchCV\n",
    "xgb_grid_search1.fit(X_train, y_train)\n",
    "\n",
    "# Best parameters and best score\n",
    "print(\"Best Parameters:\", xgb_grid_search1.best_params_)\n",
    "print(\"Best Score:\", xgb_grid_search1.best_score_)"
   ]
  },
  {
   "cell_type": "code",
   "execution_count": 23,
   "metadata": {},
   "outputs": [
    {
     "data": {
      "text/html": [
       "<div>\n",
       "<style scoped>\n",
       "    .dataframe tbody tr th:only-of-type {\n",
       "        vertical-align: middle;\n",
       "    }\n",
       "\n",
       "    .dataframe tbody tr th {\n",
       "        vertical-align: top;\n",
       "    }\n",
       "\n",
       "    .dataframe thead th {\n",
       "        text-align: right;\n",
       "    }\n",
       "</style>\n",
       "<table border=\"1\" class=\"dataframe\">\n",
       "  <thead>\n",
       "    <tr style=\"text-align: right;\">\n",
       "      <th></th>\n",
       "      <th>params</th>\n",
       "      <th>mean_test_score</th>\n",
       "      <th>std_test_score</th>\n",
       "    </tr>\n",
       "  </thead>\n",
       "  <tbody>\n",
       "    <tr>\n",
       "      <th>0</th>\n",
       "      <td>{'learning_rate': 0.01, 'max_depth': 1}</td>\n",
       "      <td>0.768638</td>\n",
       "      <td>0.009341</td>\n",
       "    </tr>\n",
       "    <tr>\n",
       "      <th>1</th>\n",
       "      <td>{'learning_rate': 0.01, 'max_depth': 2}</td>\n",
       "      <td>0.926331</td>\n",
       "      <td>0.004686</td>\n",
       "    </tr>\n",
       "    <tr>\n",
       "      <th>2</th>\n",
       "      <td>{'learning_rate': 0.01, 'max_depth': 3}</td>\n",
       "      <td>0.975613</td>\n",
       "      <td>0.005698</td>\n",
       "    </tr>\n",
       "    <tr>\n",
       "      <th>3</th>\n",
       "      <td>{'learning_rate': 0.1, 'max_depth': 1}</td>\n",
       "      <td>0.955064</td>\n",
       "      <td>0.007503</td>\n",
       "    </tr>\n",
       "    <tr>\n",
       "      <th>4</th>\n",
       "      <td>{'learning_rate': 0.1, 'max_depth': 2}</td>\n",
       "      <td>0.984936</td>\n",
       "      <td>0.002260</td>\n",
       "    </tr>\n",
       "    <tr>\n",
       "      <th>5</th>\n",
       "      <td>{'learning_rate': 0.1, 'max_depth': 3}</td>\n",
       "      <td>0.987962</td>\n",
       "      <td>0.001303</td>\n",
       "    </tr>\n",
       "    <tr>\n",
       "      <th>6</th>\n",
       "      <td>{'learning_rate': 0.2, 'max_depth': 1}</td>\n",
       "      <td>0.983606</td>\n",
       "      <td>0.001623</td>\n",
       "    </tr>\n",
       "    <tr>\n",
       "      <th>7</th>\n",
       "      <td>{'learning_rate': 0.2, 'max_depth': 2}</td>\n",
       "      <td>0.988041</td>\n",
       "      <td>0.001532</td>\n",
       "    </tr>\n",
       "    <tr>\n",
       "      <th>8</th>\n",
       "      <td>{'learning_rate': 0.2, 'max_depth': 3}</td>\n",
       "      <td>0.988384</td>\n",
       "      <td>0.001661</td>\n",
       "    </tr>\n",
       "  </tbody>\n",
       "</table>\n",
       "</div>"
      ],
      "text/plain": [
       "                                    params  mean_test_score  std_test_score\n",
       "0  {'learning_rate': 0.01, 'max_depth': 1}         0.768638        0.009341\n",
       "1  {'learning_rate': 0.01, 'max_depth': 2}         0.926331        0.004686\n",
       "2  {'learning_rate': 0.01, 'max_depth': 3}         0.975613        0.005698\n",
       "3   {'learning_rate': 0.1, 'max_depth': 1}         0.955064        0.007503\n",
       "4   {'learning_rate': 0.1, 'max_depth': 2}         0.984936        0.002260\n",
       "5   {'learning_rate': 0.1, 'max_depth': 3}         0.987962        0.001303\n",
       "6   {'learning_rate': 0.2, 'max_depth': 1}         0.983606        0.001623\n",
       "7   {'learning_rate': 0.2, 'max_depth': 2}         0.988041        0.001532\n",
       "8   {'learning_rate': 0.2, 'max_depth': 3}         0.988384        0.001661"
      ]
     },
     "execution_count": 23,
     "metadata": {},
     "output_type": "execute_result"
    }
   ],
   "source": [
    "pd.DataFrame(xgb_grid_search1.cv_results_)[['params', 'mean_test_score', 'std_test_score']]"
   ]
  },
  {
   "cell_type": "code",
   "execution_count": 24,
   "metadata": {},
   "outputs": [
    {
     "name": "stdout",
     "output_type": "stream",
     "text": [
      "[XGB for Sample_1] Macro F1 Score =  0.9945179029796252\n",
      "[XGB for Sample_1] Macro Recall =  0.9919110469347556\n"
     ]
    }
   ],
   "source": [
    "# Validation Performance\n",
    "val_pred = xgb_grid_search1.best_estimator_.predict(X_valid)\n",
    "result_xgb_val1 = pd.DataFrame({'True': y_valid, 'Pred': val_pred})\n",
    "f1_xgb1 = macro_f1(result_xgb_val1)\n",
    "recall_xgb1 = macro_recall(result_xgb_val1)\n",
    "print(\"[XGB for Sample_1] Macro F1 Score = \", f1_xgb1)\n",
    "print(\"[XGB for Sample_1] Macro Recall = \", recall_xgb1)"
   ]
  },
  {
   "cell_type": "markdown",
   "metadata": {},
   "source": [
    "### 2) XGBoost Sample 2"
   ]
  },
  {
   "cell_type": "code",
   "execution_count": 12,
   "metadata": {},
   "outputs": [
    {
     "name": "stdout",
     "output_type": "stream",
     "text": [
      "Best Parameters: {'learning_rate': 0.2, 'max_depth': 2}\n",
      "Best Score: 0.9903870639142113\n"
     ]
    }
   ],
   "source": [
    "# Load Data\n",
    "X_train, X_valid, y_train, y_valid, test_features, y_test = preProcess(df_s2)\n",
    "# Define XGBoost model\n",
    "xgb_clf2 = XGBClassifier(use_label_encoder=False, eval_metric='logloss')\n",
    "\n",
    "# Define parameter grid\n",
    "xgb_param_grid2 = {\n",
    "    'max_depth': [1, 2, 3],\n",
    "    'learning_rate': [0.01, 0.1, 0.2]\n",
    "}\n",
    "\n",
    "# Set up GridSearchCV\n",
    "xgb_grid_search2 = GridSearchCV(estimator=xgb_clf2, param_grid=xgb_param_grid2, scoring='recall_macro', n_jobs=-1, cv=5)\n",
    "\n",
    "# Fit GridSearchCV\n",
    "xgb_grid_search2.fit(X_train, y_train)\n",
    "\n",
    "# Best parameters and best score\n",
    "print(\"Best Parameters:\", xgb_grid_search2.best_params_)\n",
    "print(\"Best Score:\", xgb_grid_search2.best_score_)"
   ]
  },
  {
   "cell_type": "code",
   "execution_count": 13,
   "metadata": {},
   "outputs": [
    {
     "data": {
      "text/html": [
       "<div>\n",
       "<style scoped>\n",
       "    .dataframe tbody tr th:only-of-type {\n",
       "        vertical-align: middle;\n",
       "    }\n",
       "\n",
       "    .dataframe tbody tr th {\n",
       "        vertical-align: top;\n",
       "    }\n",
       "\n",
       "    .dataframe thead th {\n",
       "        text-align: right;\n",
       "    }\n",
       "</style>\n",
       "<table border=\"1\" class=\"dataframe\">\n",
       "  <thead>\n",
       "    <tr style=\"text-align: right;\">\n",
       "      <th></th>\n",
       "      <th>params</th>\n",
       "      <th>mean_test_score</th>\n",
       "      <th>std_test_score</th>\n",
       "    </tr>\n",
       "  </thead>\n",
       "  <tbody>\n",
       "    <tr>\n",
       "      <th>0</th>\n",
       "      <td>{'learning_rate': 0.01, 'max_depth': 1}</td>\n",
       "      <td>0.780537</td>\n",
       "      <td>0.010481</td>\n",
       "    </tr>\n",
       "    <tr>\n",
       "      <th>1</th>\n",
       "      <td>{'learning_rate': 0.01, 'max_depth': 2}</td>\n",
       "      <td>0.928141</td>\n",
       "      <td>0.003736</td>\n",
       "    </tr>\n",
       "    <tr>\n",
       "      <th>2</th>\n",
       "      <td>{'learning_rate': 0.01, 'max_depth': 3}</td>\n",
       "      <td>0.983537</td>\n",
       "      <td>0.002130</td>\n",
       "    </tr>\n",
       "    <tr>\n",
       "      <th>3</th>\n",
       "      <td>{'learning_rate': 0.1, 'max_depth': 1}</td>\n",
       "      <td>0.974304</td>\n",
       "      <td>0.005126</td>\n",
       "    </tr>\n",
       "    <tr>\n",
       "      <th>4</th>\n",
       "      <td>{'learning_rate': 0.1, 'max_depth': 2}</td>\n",
       "      <td>0.988017</td>\n",
       "      <td>0.003070</td>\n",
       "    </tr>\n",
       "    <tr>\n",
       "      <th>5</th>\n",
       "      <td>{'learning_rate': 0.1, 'max_depth': 3}</td>\n",
       "      <td>0.990149</td>\n",
       "      <td>0.002665</td>\n",
       "    </tr>\n",
       "    <tr>\n",
       "      <th>6</th>\n",
       "      <td>{'learning_rate': 0.2, 'max_depth': 1}</td>\n",
       "      <td>0.985603</td>\n",
       "      <td>0.001227</td>\n",
       "    </tr>\n",
       "    <tr>\n",
       "      <th>7</th>\n",
       "      <td>{'learning_rate': 0.2, 'max_depth': 2}</td>\n",
       "      <td>0.990387</td>\n",
       "      <td>0.002460</td>\n",
       "    </tr>\n",
       "    <tr>\n",
       "      <th>8</th>\n",
       "      <td>{'learning_rate': 0.2, 'max_depth': 3}</td>\n",
       "      <td>0.990181</td>\n",
       "      <td>0.002216</td>\n",
       "    </tr>\n",
       "  </tbody>\n",
       "</table>\n",
       "</div>"
      ],
      "text/plain": [
       "                                    params  mean_test_score  std_test_score\n",
       "0  {'learning_rate': 0.01, 'max_depth': 1}         0.780537        0.010481\n",
       "1  {'learning_rate': 0.01, 'max_depth': 2}         0.928141        0.003736\n",
       "2  {'learning_rate': 0.01, 'max_depth': 3}         0.983537        0.002130\n",
       "3   {'learning_rate': 0.1, 'max_depth': 1}         0.974304        0.005126\n",
       "4   {'learning_rate': 0.1, 'max_depth': 2}         0.988017        0.003070\n",
       "5   {'learning_rate': 0.1, 'max_depth': 3}         0.990149        0.002665\n",
       "6   {'learning_rate': 0.2, 'max_depth': 1}         0.985603        0.001227\n",
       "7   {'learning_rate': 0.2, 'max_depth': 2}         0.990387        0.002460\n",
       "8   {'learning_rate': 0.2, 'max_depth': 3}         0.990181        0.002216"
      ]
     },
     "execution_count": 13,
     "metadata": {},
     "output_type": "execute_result"
    }
   ],
   "source": [
    "pd.DataFrame(xgb_grid_search2.cv_results_)[['params', 'mean_test_score', 'std_test_score']]"
   ]
  },
  {
   "cell_type": "code",
   "execution_count": 17,
   "metadata": {},
   "outputs": [
    {
     "name": "stdout",
     "output_type": "stream",
     "text": [
      "[XGB for Sample_2] Macro F1 Score =  0.9933757118915105\n",
      "[XGB for Sample_2] Macro Recall =  0.988665212859024\n"
     ]
    }
   ],
   "source": [
    "# Validation Performance\n",
    "val_pred = xgb_grid_search2.best_estimator_.predict(X_valid)\n",
    "result_xgb_val2 = pd.DataFrame({'True': y_valid, 'Pred': val_pred})\n",
    "f1_xgb2 = macro_f1(result_xgb_val2)\n",
    "recall_xgb2 = macro_recall(result_xgb_val2)\n",
    "print(\"[XGB for Sample_2] Macro F1 Score = \", f1_xgb2)\n",
    "print(\"[XGB for Sample_2] Macro Recall = \", recall_xgb2)"
   ]
  },
  {
   "cell_type": "markdown",
   "metadata": {},
   "source": [
    "### 3) XGBoost Sample 3"
   ]
  },
  {
   "cell_type": "code",
   "execution_count": 25,
   "metadata": {},
   "outputs": [
    {
     "name": "stdout",
     "output_type": "stream",
     "text": [
      "Best Parameters: {'learning_rate': 0.2, 'max_depth': 2}\n",
      "Best Score: 0.9943557921848502\n"
     ]
    }
   ],
   "source": [
    "# Load Data\n",
    "X_train, X_valid, y_train, y_valid, test_features, y_test = preProcess(df_s3)\n",
    "# Define XGBoost model\n",
    "xgb_clf3 = XGBClassifier(use_label_encoder=False, eval_metric='logloss')\n",
    "\n",
    "# Define parameter grid\n",
    "xgb_param_grid3 = {\n",
    "    'max_depth': [1, 2, 3],\n",
    "    'learning_rate': [0.01, 0.1, 0.2]\n",
    "}\n",
    "\n",
    "# Set up GridSearchCV\n",
    "xgb_grid_search3 = GridSearchCV(estimator=xgb_clf3, param_grid=xgb_param_grid3, scoring='recall_macro', n_jobs=-1, cv=5)\n",
    "\n",
    "# Fit GridSearchCV\n",
    "xgb_grid_search3.fit(X_train, y_train)\n",
    "\n",
    "# Best parameters and best score\n",
    "print(\"Best Parameters:\", xgb_grid_search3.best_params_)\n",
    "print(\"Best Score:\", xgb_grid_search3.best_score_)"
   ]
  },
  {
   "cell_type": "code",
   "execution_count": 26,
   "metadata": {},
   "outputs": [
    {
     "data": {
      "text/html": [
       "<div>\n",
       "<style scoped>\n",
       "    .dataframe tbody tr th:only-of-type {\n",
       "        vertical-align: middle;\n",
       "    }\n",
       "\n",
       "    .dataframe tbody tr th {\n",
       "        vertical-align: top;\n",
       "    }\n",
       "\n",
       "    .dataframe thead th {\n",
       "        text-align: right;\n",
       "    }\n",
       "</style>\n",
       "<table border=\"1\" class=\"dataframe\">\n",
       "  <thead>\n",
       "    <tr style=\"text-align: right;\">\n",
       "      <th></th>\n",
       "      <th>params</th>\n",
       "      <th>mean_test_score</th>\n",
       "      <th>std_test_score</th>\n",
       "    </tr>\n",
       "  </thead>\n",
       "  <tbody>\n",
       "    <tr>\n",
       "      <th>0</th>\n",
       "      <td>{'learning_rate': 0.01, 'max_depth': 1}</td>\n",
       "      <td>0.881486</td>\n",
       "      <td>0.007259</td>\n",
       "    </tr>\n",
       "    <tr>\n",
       "      <th>1</th>\n",
       "      <td>{'learning_rate': 0.01, 'max_depth': 2}</td>\n",
       "      <td>0.963035</td>\n",
       "      <td>0.003939</td>\n",
       "    </tr>\n",
       "    <tr>\n",
       "      <th>2</th>\n",
       "      <td>{'learning_rate': 0.01, 'max_depth': 3}</td>\n",
       "      <td>0.980178</td>\n",
       "      <td>0.004474</td>\n",
       "    </tr>\n",
       "    <tr>\n",
       "      <th>3</th>\n",
       "      <td>{'learning_rate': 0.1, 'max_depth': 1}</td>\n",
       "      <td>0.984041</td>\n",
       "      <td>0.003717</td>\n",
       "    </tr>\n",
       "    <tr>\n",
       "      <th>4</th>\n",
       "      <td>{'learning_rate': 0.1, 'max_depth': 2}</td>\n",
       "      <td>0.994168</td>\n",
       "      <td>0.002747</td>\n",
       "    </tr>\n",
       "    <tr>\n",
       "      <th>5</th>\n",
       "      <td>{'learning_rate': 0.1, 'max_depth': 3}</td>\n",
       "      <td>0.994164</td>\n",
       "      <td>0.002175</td>\n",
       "    </tr>\n",
       "    <tr>\n",
       "      <th>6</th>\n",
       "      <td>{'learning_rate': 0.2, 'max_depth': 1}</td>\n",
       "      <td>0.993609</td>\n",
       "      <td>0.001831</td>\n",
       "    </tr>\n",
       "    <tr>\n",
       "      <th>7</th>\n",
       "      <td>{'learning_rate': 0.2, 'max_depth': 2}</td>\n",
       "      <td>0.994356</td>\n",
       "      <td>0.001457</td>\n",
       "    </tr>\n",
       "    <tr>\n",
       "      <th>8</th>\n",
       "      <td>{'learning_rate': 0.2, 'max_depth': 3}</td>\n",
       "      <td>0.994354</td>\n",
       "      <td>0.001180</td>\n",
       "    </tr>\n",
       "  </tbody>\n",
       "</table>\n",
       "</div>"
      ],
      "text/plain": [
       "                                    params  mean_test_score  std_test_score\n",
       "0  {'learning_rate': 0.01, 'max_depth': 1}         0.881486        0.007259\n",
       "1  {'learning_rate': 0.01, 'max_depth': 2}         0.963035        0.003939\n",
       "2  {'learning_rate': 0.01, 'max_depth': 3}         0.980178        0.004474\n",
       "3   {'learning_rate': 0.1, 'max_depth': 1}         0.984041        0.003717\n",
       "4   {'learning_rate': 0.1, 'max_depth': 2}         0.994168        0.002747\n",
       "5   {'learning_rate': 0.1, 'max_depth': 3}         0.994164        0.002175\n",
       "6   {'learning_rate': 0.2, 'max_depth': 1}         0.993609        0.001831\n",
       "7   {'learning_rate': 0.2, 'max_depth': 2}         0.994356        0.001457\n",
       "8   {'learning_rate': 0.2, 'max_depth': 3}         0.994354        0.001180"
      ]
     },
     "execution_count": 26,
     "metadata": {},
     "output_type": "execute_result"
    }
   ],
   "source": [
    "pd.DataFrame(xgb_grid_search3.cv_results_)[['params', 'mean_test_score', 'std_test_score']]"
   ]
  },
  {
   "cell_type": "code",
   "execution_count": 27,
   "metadata": {},
   "outputs": [
    {
     "name": "stdout",
     "output_type": "stream",
     "text": [
      "[XGB for Sample_3] Macro F1 Score =  0.9966699835736567\n",
      "[XGB for Sample_3] Macro Recall =  0.9966031074139912\n"
     ]
    }
   ],
   "source": [
    "# Validation Performance\n",
    "val_pred = xgb_grid_search3.best_estimator_.predict(X_valid)\n",
    "result_xgb_val3 = pd.DataFrame({'True': y_valid, 'Pred': val_pred})\n",
    "f1_xgb3 = macro_f1(result_xgb_val3)\n",
    "recall_xgb3 = macro_recall(result_xgb_val3)\n",
    "print(\"[XGB for Sample_3] Macro F1 Score = \", f1_xgb3)\n",
    "print(\"[XGB for Sample_3] Macro Recall = \", recall_xgb3)"
   ]
  },
  {
   "cell_type": "markdown",
   "metadata": {},
   "source": [
    "# XGB Model Selection (Sample)"
   ]
  },
  {
   "cell_type": "code",
   "execution_count": 29,
   "metadata": {},
   "outputs": [
    {
     "name": "stdout",
     "output_type": "stream",
     "text": [
      "[Test] XGB Macro F1 Score =  0.9943373701375134\n",
      "[Test] XGB Macro Recall Score =  0.9943768571372085\n"
     ]
    }
   ],
   "source": [
    "# Test set prediction for sample 3 XGB\n",
    "test_pred_xgb = xgb_grid_search3.best_estimator_.predict(test_features)\n",
    "test_crosstab_xgb = pd.crosstab(y_test, test_pred_xgb, rownames = ['True'], colnames = ['Pred'])\n",
    "result_test_xgb = pd.DataFrame({'True': y_test, 'Pred': test_pred_xgb})\n",
    "print(\"[Test] XGB Macro F1 Score = \", macro_f1(result_test_xgb))\n",
    "print(\"[Test] XGB Macro Recall Score = \", macro_recall(result_test_xgb))"
   ]
  },
  {
   "cell_type": "markdown",
   "metadata": {},
   "source": [
    "# Performance Evaluation"
   ]
  },
  {
   "cell_type": "code",
   "execution_count": 48,
   "metadata": {},
   "outputs": [
    {
     "data": {
      "text/html": [
       "<div>\n",
       "<style scoped>\n",
       "    .dataframe tbody tr th:only-of-type {\n",
       "        vertical-align: middle;\n",
       "    }\n",
       "\n",
       "    .dataframe tbody tr th {\n",
       "        vertical-align: top;\n",
       "    }\n",
       "\n",
       "    .dataframe thead th {\n",
       "        text-align: right;\n",
       "    }\n",
       "</style>\n",
       "<table border=\"1\" class=\"dataframe\">\n",
       "  <thead>\n",
       "    <tr style=\"text-align: right;\">\n",
       "      <th></th>\n",
       "      <th>Model</th>\n",
       "      <th>Macro_F1Score</th>\n",
       "      <th>Macro_Recall</th>\n",
       "    </tr>\n",
       "  </thead>\n",
       "  <tbody>\n",
       "    <tr>\n",
       "      <th>0</th>\n",
       "      <td>RF_1</td>\n",
       "      <td>0.994</td>\n",
       "      <td>0.992</td>\n",
       "    </tr>\n",
       "    <tr>\n",
       "      <th>1</th>\n",
       "      <td>RF_2</td>\n",
       "      <td>0.992</td>\n",
       "      <td>0.989</td>\n",
       "    </tr>\n",
       "    <tr>\n",
       "      <th>2</th>\n",
       "      <td>RF_3</td>\n",
       "      <td>0.996</td>\n",
       "      <td>0.995</td>\n",
       "    </tr>\n",
       "    <tr>\n",
       "      <th>3</th>\n",
       "      <td>XGB_1</td>\n",
       "      <td>0.995</td>\n",
       "      <td>0.992</td>\n",
       "    </tr>\n",
       "    <tr>\n",
       "      <th>4</th>\n",
       "      <td>XGB_2</td>\n",
       "      <td>0.993</td>\n",
       "      <td>0.989</td>\n",
       "    </tr>\n",
       "    <tr>\n",
       "      <th>5</th>\n",
       "      <td>XGB_3</td>\n",
       "      <td>0.997</td>\n",
       "      <td>0.997</td>\n",
       "    </tr>\n",
       "  </tbody>\n",
       "</table>\n",
       "</div>"
      ],
      "text/plain": [
       "   Model  Macro_F1Score  Macro_Recall\n",
       "0   RF_1          0.994         0.992\n",
       "1   RF_2          0.992         0.989\n",
       "2   RF_3          0.996         0.995\n",
       "3  XGB_1          0.995         0.992\n",
       "4  XGB_2          0.993         0.989\n",
       "5  XGB_3          0.997         0.997"
      ]
     },
     "execution_count": 48,
     "metadata": {},
     "output_type": "execute_result"
    }
   ],
   "source": [
    "eval = {\n",
    "    \"Model\": [\"RF_1\", \"RF_2\", \"RF_3\", \"XGB_1\", \"XGB_2\", \"XGB_3\"],\n",
    "    \"Macro_F1Score\": [0.9942159268018286, 0.991508088263535, 0.9955430316619064, 0.9945179029796252, 0.9933757118915105, 0.9966699835736567],\n",
    "    \"Macro_Recall\": [0.9920028994929287, 0.9889846644130609, 0.9954034769895754, 0.9919110469347556, 0.988665212859024, 0.9966031074139912]\n",
    "}\n",
    "\n",
    "# Round the score values to a format of 0.000\n",
    "eval['Macro_F1Score'] = [round(score, 3) for score in eval['Macro_F1Score']]\n",
    "eval['Macro_Recall'] = [round(score, 3) for score in eval['Macro_Recall']]\n",
    "\n",
    "# Create a DataFrame with the rounded values\n",
    "eval_result = pd.DataFrame(eval)\n",
    "eval_result"
   ]
  },
  {
   "cell_type": "code",
   "execution_count": 60,
   "metadata": {},
   "outputs": [
    {
     "data": {
      "image/png": "[encoded data removed]",
      "text/plain": [
       "<Figure size 1200x600 with 1 Axes>"
      ]
     },
     "metadata": {},
     "output_type": "display_data"
    }
   ],
   "source": [
    "fig, ax = plt.subplots(figsize=(12, 6))\n",
    "bar_width = 0.35\n",
    "r1 = range(len(eval_result['Macro_F1Score']))\n",
    "r2 = [x + bar_width for x in r1]\n",
    "\n",
    "bars1 = ax.bar(r1, eval_result['Macro_F1Score'], color='blue', width=bar_width, edgecolor='grey', label='Macro_F1Score')\n",
    "bars2 = ax.bar(r2, eval_result['Macro_Recall'], color='orange', width=bar_width, edgecolor='grey', label='Macro_Recall')\n",
    "\n",
    "# Add xticks on the middle of the group bars\n",
    "ax.set_xlabel('Model', fontweight='bold', fontsize = 16)\n",
    "ax.set_ylabel('Scores', fontweight='bold', fontsize = 16)\n",
    "ax.set_xticks([r + bar_width/2 for r in range(len(eval_result['Macro_F1Score']))])\n",
    "ax.set_xticklabels(eval_result['Model'])\n",
    "\n",
    "# Set the y-axis limit to better visualize the differences\n",
    "ax.set_ylim([0.98, 1.0])\n",
    "\n",
    "# Adjust the placement of the value annotations to be closer to the bars\n",
    "vertical_offset = 0.0002  # Adjust this value as needed to position the text closer to the bars\n",
    "\n",
    "# Loop over the bars and use ax.text() to put the value on top of each bar, using '.3f' to round to three decimal places\n",
    "for bar in bars1:\n",
    "    height = bar.get_height()\n",
    "    ax.text(bar.get_x() + bar.get_width() / 2., height + vertical_offset, '%.3f' % height, ha='center', va='bottom', fontweight='bold')\n",
    "\n",
    "for bar in bars2:\n",
    "    height = bar.get_height()\n",
    "    ax.text(bar.get_x() + bar.get_width() / 2., height + vertical_offset, '%.3f' % height, ha='center', va='bottom', fontweight='bold')\n",
    "\n",
    "# Enable grid lines on the y-axis\n",
    "ax.yaxis.grid(True)  # Turn on grid lines for the y-axis only\n",
    "# Optional: Make the grid lines less prominent if desired\n",
    "ax.set_axisbelow(True)  # Ensures the grid lines are below the bars\n",
    "plt.grid(color='gray', linestyle='dashed', linewidth=0.5)\n",
    "\n",
    "# Create legend & Show graphic\n",
    "ax.legend(loc='upper left')\n",
    "plt.title('Model Evaluation (Valid Dataset)', fontsize = 18, fontweight='bold')\n",
    "plt.show()"
   ]
  },
  {
   "cell_type": "code",
   "execution_count": 84,
   "metadata": {},
   "outputs": [
    {
     "name": "stdout",
     "output_type": "stream",
     "text": [
      "[Test] XGB Macro F1 Score =  0.9943373701375134\n",
      "[Test] XGB Macro Recall Score =  0.9943768571372085\n"
     ]
    }
   ],
   "source": [
    "# Test set prediction for sample 3 XGB\n",
    "test_pred_xgb = xgb_grid_search3.best_estimator_.predict(test_features)\n",
    "test_crosstab_xgb = pd.crosstab(y_test, test_pred_xgb, rownames = ['True'], colnames = ['Pred'])\n",
    "result_test_xgb = pd.DataFrame({'True': y_test, 'Pred': test_pred_xgb})\n",
    "print(\"[Test] XGB Macro F1 Score = \", macro_f1(result_test_xgb))\n",
    "print(\"[Test] XGB Macro Recall Score = \", macro_recall(result_test_xgb))"
   ]
  },
  {
   "cell_type": "code",
   "execution_count": 65,
   "metadata": {},
   "outputs": [
    {
     "data": {
      "image/png": "[encoded data removed]",
      "text/plain": [
       "<Figure size 640x480 with 2 Axes>"
      ]
     },
     "metadata": {},
     "output_type": "display_data"
    }
   ],
   "source": [
    "# Confusion Matrix\n",
    "cm_final = confusion_matrix(y_test, test_pred_xgb)\n",
    "total = np.sum(cm_final, axis = 1)\n",
    "cm_norm_final = cm_final/total[:,None]\n",
    "sns.heatmap(cm_norm_final, annot=True)\n",
    "plt.title(\"Classification Heatmap\")\n",
    "plt.xlabel(\"Predict\")\n",
    "plt.ylabel(\"True\")\n",
    "plt.show()"
   ]
  },
  {
   "cell_type": "markdown",
   "metadata": {},
   "source": [
    "# Extra Work"
   ]
  },
  {
   "cell_type": "code",
   "execution_count": 79,
   "metadata": {},
   "outputs": [],
   "source": [
    "# Logistic Regression\n",
    "from sklearn.linear_model import LogisticRegression\n",
    "# Load Data\n",
    "X_train, X_valid, y_train, y_valid, test_features, y_test = preProcess(df_s3)"
   ]
  },
  {
   "cell_type": "code",
   "execution_count": 80,
   "metadata": {},
   "outputs": [
    {
     "data": {
      "text/html": [
       "<style>#sk-container-id-1 {color: black;}#sk-container-id-1 pre{padding: 0;}#sk-container-id-1 div.sk-toggleable {background-color: white;}#sk-container-id-1 label.sk-toggleable__label {cursor: pointer;display: block;width: 100%;margin-bottom: 0;padding: 0.3em;box-sizing: border-box;text-align: center;}#sk-container-id-1 label.sk-toggleable__label-arrow:before {content: \"▸\";float: left;margin-right: 0.25em;color: #696969;}#sk-container-id-1 label.sk-toggleable__label-arrow:hover:before {color: black;}#sk-container-id-1 div.sk-estimator:hover label.sk-toggleable__label-arrow:before {color: black;}#sk-container-id-1 div.sk-toggleable__content {max-height: 0;max-width: 0;overflow: hidden;text-align: left;background-color: #f0f8ff;}#sk-container-id-1 div.sk-toggleable__content pre {margin: 0.2em;color: black;border-radius: 0.25em;background-color: #f0f8ff;}#sk-container-id-1 input.sk-toggleable__control:checked~div.sk-toggleable__content {max-height: 200px;max-width: 100%;overflow: auto;}#sk-container-id-1 input.sk-toggleable__control:checked~label.sk-toggleable__label-arrow:before {content: \"▾\";}#sk-container-id-1 div.sk-estimator input.sk-toggleable__control:checked~label.sk-toggleable__label {background-color: #d4ebff;}#sk-container-id-1 div.sk-label input.sk-toggleable__control:checked~label.sk-toggleable__label {background-color: #d4ebff;}#sk-container-id-1 input.sk-hidden--visually {border: 0;clip: rect(1px 1px 1px 1px);clip: rect(1px, 1px, 1px, 1px);height: 1px;margin: -1px;overflow: hidden;padding: 0;position: absolute;width: 1px;}#sk-container-id-1 div.sk-estimator {font-family: monospace;background-color: #f0f8ff;border: 1px dotted black;border-radius: 0.25em;box-sizing: border-box;margin-bottom: 0.5em;}#sk-container-id-1 div.sk-estimator:hover {background-color: #d4ebff;}#sk-container-id-1 div.sk-parallel-item::after {content: \"\";width: 100%;border-bottom: 1px solid gray;flex-grow: 1;}#sk-container-id-1 div.sk-label:hover label.sk-toggleable__label {background-color: #d4ebff;}#sk-container-id-1 div.sk-serial::before {content: \"\";position: absolute;border-left: 1px solid gray;box-sizing: border-box;top: 0;bottom: 0;left: 50%;z-index: 0;}#sk-container-id-1 div.sk-serial {display: flex;flex-direction: column;align-items: center;background-color: white;padding-right: 0.2em;padding-left: 0.2em;position: relative;}#sk-container-id-1 div.sk-item {position: relative;z-index: 1;}#sk-container-id-1 div.sk-parallel {display: flex;align-items: stretch;justify-content: center;background-color: white;position: relative;}#sk-container-id-1 div.sk-item::before, #sk-container-id-1 div.sk-parallel-item::before {content: \"\";position: absolute;border-left: 1px solid gray;box-sizing: border-box;top: 0;bottom: 0;left: 50%;z-index: -1;}#sk-container-id-1 div.sk-parallel-item {display: flex;flex-direction: column;z-index: 1;position: relative;background-color: white;}#sk-container-id-1 div.sk-parallel-item:first-child::after {align-self: flex-end;width: 50%;}#sk-container-id-1 div.sk-parallel-item:last-child::after {align-self: flex-start;width: 50%;}#sk-container-id-1 div.sk-parallel-item:only-child::after {width: 0;}#sk-container-id-1 div.sk-dashed-wrapped {border: 1px dashed gray;margin: 0 0.4em 0.5em 0.4em;box-sizing: border-box;padding-bottom: 0.4em;background-color: white;}#sk-container-id-1 div.sk-label label {font-family: monospace;font-weight: bold;display: inline-block;line-height: 1.2em;}#sk-container-id-1 div.sk-label-container {text-align: center;}#sk-container-id-1 div.sk-container {/* jupyter's `normalize.less` sets `[hidden] { display: none; }` but bootstrap.min.css set `[hidden] { display: none !important; }` so we also need the `!important` here to be able to override the default hidden behavior on the sphinx rendered scikit-learn.org. See: https://github.com/scikit-learn/scikit-learn/issues/21755 */display: inline-block !important;position: relative;}#sk-container-id-1 div.sk-text-repr-fallback {display: none;}</style><div id=\"sk-container-id-1\" class=\"sk-top-container\"><div class=\"sk-text-repr-fallback\"><pre>LogisticRegression(max_iter=200, multi_class=&#x27;multinomial&#x27;)</pre><b>In a Jupyter environment, please rerun this cell to show the HTML representation or trust the notebook. <br />On GitHub, the HTML representation is unable to render, please try loading this page with nbviewer.org.</b></div><div class=\"sk-container\" hidden><div class=\"sk-item\"><div class=\"sk-estimator sk-toggleable\"><input class=\"sk-toggleable__control sk-hidden--visually\" id=\"sk-estimator-id-1\" type=\"checkbox\" checked><label for=\"sk-estimator-id-1\" class=\"sk-toggleable__label sk-toggleable__label-arrow\">LogisticRegression</label><div class=\"sk-toggleable__content\"><pre>LogisticRegression(max_iter=200, multi_class=&#x27;multinomial&#x27;)</pre></div></div></div></div></div>"
      ],
      "text/plain": [
       "LogisticRegression(max_iter=200, multi_class='multinomial')"
      ]
     },
     "execution_count": 80,
     "metadata": {},
     "output_type": "execute_result"
    }
   ],
   "source": [
    "logreg = LogisticRegression(multi_class='multinomial', solver='lbfgs', max_iter=200)\n",
    "logreg.fit(X_train, y_train)"
   ]
  },
  {
   "cell_type": "code",
   "execution_count": 81,
   "metadata": {},
   "outputs": [],
   "source": [
    "y_pred = logreg.predict(test_features)"
   ]
  },
  {
   "cell_type": "code",
   "execution_count": 83,
   "metadata": {},
   "outputs": [
    {
     "name": "stdout",
     "output_type": "stream",
     "text": [
      "[Test] Log.Reg Macro F1 Score =  0.9937980858033848\n",
      "[Test] Log.Reg Macro Recall Score =  0.993838967562774\n"
     ]
    }
   ],
   "source": [
    "# Test set prediction for sample 3 XGB\n",
    "result_test_logreg = pd.DataFrame({'True': y_test, 'Pred': y_pred})\n",
    "print(\"[Test] Log.Reg Macro F1 Score = \", macro_f1(result_test_logreg))\n",
    "print(\"[Test] Log.Reg Macro Recall Score = \", macro_recall(result_test_logreg))"
   ]
  },
  {
   "cell_type": "code",
   "execution_count": 85,
   "metadata": {},
   "outputs": [
    {
     "data": {
      "text/html": [
       "<style>#sk-container-id-2 {color: black;}#sk-container-id-2 pre{padding: 0;}#sk-container-id-2 div.sk-toggleable {background-color: white;}#sk-container-id-2 label.sk-toggleable__label {cursor: pointer;display: block;width: 100%;margin-bottom: 0;padding: 0.3em;box-sizing: border-box;text-align: center;}#sk-container-id-2 label.sk-toggleable__label-arrow:before {content: \"▸\";float: left;margin-right: 0.25em;color: #696969;}#sk-container-id-2 label.sk-toggleable__label-arrow:hover:before {color: black;}#sk-container-id-2 div.sk-estimator:hover label.sk-toggleable__label-arrow:before {color: black;}#sk-container-id-2 div.sk-toggleable__content {max-height: 0;max-width: 0;overflow: hidden;text-align: left;background-color: #f0f8ff;}#sk-container-id-2 div.sk-toggleable__content pre {margin: 0.2em;color: black;border-radius: 0.25em;background-color: #f0f8ff;}#sk-container-id-2 input.sk-toggleable__control:checked~div.sk-toggleable__content {max-height: 200px;max-width: 100%;overflow: auto;}#sk-container-id-2 input.sk-toggleable__control:checked~label.sk-toggleable__label-arrow:before {content: \"▾\";}#sk-container-id-2 div.sk-estimator input.sk-toggleable__control:checked~label.sk-toggleable__label {background-color: #d4ebff;}#sk-container-id-2 div.sk-label input.sk-toggleable__control:checked~label.sk-toggleable__label {background-color: #d4ebff;}#sk-container-id-2 input.sk-hidden--visually {border: 0;clip: rect(1px 1px 1px 1px);clip: rect(1px, 1px, 1px, 1px);height: 1px;margin: -1px;overflow: hidden;padding: 0;position: absolute;width: 1px;}#sk-container-id-2 div.sk-estimator {font-family: monospace;background-color: #f0f8ff;border: 1px dotted black;border-radius: 0.25em;box-sizing: border-box;margin-bottom: 0.5em;}#sk-container-id-2 div.sk-estimator:hover {background-color: #d4ebff;}#sk-container-id-2 div.sk-parallel-item::after {content: \"\";width: 100%;border-bottom: 1px solid gray;flex-grow: 1;}#sk-container-id-2 div.sk-label:hover label.sk-toggleable__label {background-color: #d4ebff;}#sk-container-id-2 div.sk-serial::before {content: \"\";position: absolute;border-left: 1px solid gray;box-sizing: border-box;top: 0;bottom: 0;left: 50%;z-index: 0;}#sk-container-id-2 div.sk-serial {display: flex;flex-direction: column;align-items: center;background-color: white;padding-right: 0.2em;padding-left: 0.2em;position: relative;}#sk-container-id-2 div.sk-item {position: relative;z-index: 1;}#sk-container-id-2 div.sk-parallel {display: flex;align-items: stretch;justify-content: center;background-color: white;position: relative;}#sk-container-id-2 div.sk-item::before, #sk-container-id-2 div.sk-parallel-item::before {content: \"\";position: absolute;border-left: 1px solid gray;box-sizing: border-box;top: 0;bottom: 0;left: 50%;z-index: -1;}#sk-container-id-2 div.sk-parallel-item {display: flex;flex-direction: column;z-index: 1;position: relative;background-color: white;}#sk-container-id-2 div.sk-parallel-item:first-child::after {align-self: flex-end;width: 50%;}#sk-container-id-2 div.sk-parallel-item:last-child::after {align-self: flex-start;width: 50%;}#sk-container-id-2 div.sk-parallel-item:only-child::after {width: 0;}#sk-container-id-2 div.sk-dashed-wrapped {border: 1px dashed gray;margin: 0 0.4em 0.5em 0.4em;box-sizing: border-box;padding-bottom: 0.4em;background-color: white;}#sk-container-id-2 div.sk-label label {font-family: monospace;font-weight: bold;display: inline-block;line-height: 1.2em;}#sk-container-id-2 div.sk-label-container {text-align: center;}#sk-container-id-2 div.sk-container {/* jupyter's `normalize.less` sets `[hidden] { display: none; }` but bootstrap.min.css set `[hidden] { display: none !important; }` so we also need the `!important` here to be able to override the default hidden behavior on the sphinx rendered scikit-learn.org. See: https://github.com/scikit-learn/scikit-learn/issues/21755 */display: inline-block !important;position: relative;}#sk-container-id-2 div.sk-text-repr-fallback {display: none;}</style><div id=\"sk-container-id-2\" class=\"sk-top-container\"><div class=\"sk-text-repr-fallback\"><pre>GaussianNB()</pre><b>In a Jupyter environment, please rerun this cell to show the HTML representation or trust the notebook. <br />On GitHub, the HTML representation is unable to render, please try loading this page with nbviewer.org.</b></div><div class=\"sk-container\" hidden><div class=\"sk-item\"><div class=\"sk-estimator sk-toggleable\"><input class=\"sk-toggleable__control sk-hidden--visually\" id=\"sk-estimator-id-2\" type=\"checkbox\" checked><label for=\"sk-estimator-id-2\" class=\"sk-toggleable__label sk-toggleable__label-arrow\">GaussianNB</label><div class=\"sk-toggleable__content\"><pre>GaussianNB()</pre></div></div></div></div></div>"
      ],
      "text/plain": [
       "GaussianNB()"
      ]
     },
     "execution_count": 85,
     "metadata": {},
     "output_type": "execute_result"
    }
   ],
   "source": [
    "# Naive Bayes Classifier\n",
    "from sklearn.naive_bayes import GaussianNB\n",
    "# Initialize the model\n",
    "nb_classifier = GaussianNB()\n",
    "X_train_dense = X_train.toarray()\n",
    "nb_classifier.fit(X_train_dense, y_train)"
   ]
  },
  {
   "cell_type": "code",
   "execution_count": 86,
   "metadata": {},
   "outputs": [
    {
     "name": "stdout",
     "output_type": "stream",
     "text": [
      "[Test] Naive Bayes Macro F1 Score =  0.9770522636867556\n",
      "[Test] Naive Bayes Macro Recall Score =  0.9774792739415433\n"
     ]
    }
   ],
   "source": [
    "# Predict Test dataset\n",
    "test_pred_nb = nb_classifier.predict(test_features.toarray())\n",
    "test_crosstab_nb = pd.crosstab(y_test, test_pred_nb, rownames = ['True'], colnames = ['Pred'])\n",
    "result_nb = pd.DataFrame({'True': y_test, 'Pred': test_pred_nb})\n",
    "print(\"[Test] Naive Bayes Macro F1 Score = \", macro_f1(result_nb))\n",
    "print(\"[Test] Naive Bayes Macro Recall Score = \", macro_recall(result_nb))"
   ]
  },
  {
   "cell_type": "code",
   "execution_count": null,
   "metadata": {},
   "outputs": [],
   "source": []
  }
 ],
 "metadata": {
  "kernelspec": {
   "display_name": "ahnlab",
   "language": "python",
   "name": "python3"
  },
  "language_info": {
   "codemirror_mode": {
    "name": "ipython",
    "version": 3
   },
   "file_extension": ".py",
   "mimetype": "text/x-python",
   "name": "python",
   "nbconvert_exporter": "python",
   "pygments_lexer": "ipython3",
   "version": "3.10.4"
  }
 },
 "nbformat": 4,
 "nbformat_minor": 2
}

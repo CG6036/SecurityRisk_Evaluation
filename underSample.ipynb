{
 "cells": [
  {
   "cell_type": "markdown",
   "metadata": {},
   "source": [
    "# Undersampling Data Manipulation"
   ]
  },
  {
   "cell_type": "code",
   "execution_count": 1,
   "metadata": {},
   "outputs": [],
   "source": [
    "import pandas as pd\n",
    "import numpy as np\n",
    "import matplotlib.pyplot as plt\n",
    "from sklearn.utils import resample\n",
    "\n",
    "# Load Data\n",
    "df0 = pd.read_csv('dataset0.csv')\n",
    "df1 = pd.read_csv('dataset1.csv')\n",
    "df2 = pd.read_csv('dataset2.csv')\n",
    "df3 = pd.read_csv('dataset3.csv')\n",
    "# Merge Data \n",
    "df_merge = pd.concat([df0.iloc[:,1:], df1.iloc[:,1:], df2.iloc[:,1:], df3.iloc[:,1:]], ignore_index = True)"
   ]
  },
  {
   "cell_type": "markdown",
   "metadata": {},
   "source": [
    "### 1) Undersample Dataset for (0.3, 0.7, 1, 1)"
   ]
  },
  {
   "cell_type": "code",
   "execution_count": 20,
   "metadata": {},
   "outputs": [],
   "source": [
    "undersample_ratios = {0: 0.3, 1: 0.7, 2: 1, 3: 1}\n",
    "\n",
    "# 각 클래스에 대해 별도의 데이터프레임을 생성합니다.\n",
    "class_dfs = {cls: df_merge[df_merge['level'] == cls] for cls in df_merge['level'].unique()}\n",
    "\n",
    "# 언더샘플링을 수행합니다.\n",
    "undersampled_dfs = []\n",
    "for cls, ratio in undersample_ratios.items():\n",
    "    # 각 클래스별 샘플 수를 계산합니다.\n",
    "    n_samples = int(len(class_dfs[cls]) * ratio)\n",
    "    # sklearn의 resample 함수를 사용하여 데이터를 언더샘플링합니다.\n",
    "    undersampled_df = resample(class_dfs[cls],\n",
    "                               replace=False,  # 비복원 추출\n",
    "                               n_samples=n_samples,  # 줄이고자 하는 샘플 수\n",
    "                               random_state=123)  # 결과의 재현성을 위해\n",
    "    undersampled_dfs.append(undersampled_df)\n",
    "\n",
    "# 언더샘플링된 데이터프레임을 결합합니다.\n",
    "final_undersampled_df = pd.concat(undersampled_dfs)"
   ]
  },
  {
   "cell_type": "code",
   "execution_count": 21,
   "metadata": {},
   "outputs": [
    {
     "data": {
      "text/html": [
       "<div>\n",
       "<style scoped>\n",
       "    .dataframe tbody tr th:only-of-type {\n",
       "        vertical-align: middle;\n",
       "    }\n",
       "\n",
       "    .dataframe tbody tr th {\n",
       "        vertical-align: top;\n",
       "    }\n",
       "\n",
       "    .dataframe thead th {\n",
       "        text-align: right;\n",
       "    }\n",
       "</style>\n",
       "<table border=\"1\" class=\"dataframe\">\n",
       "  <thead>\n",
       "    <tr style=\"text-align: right;\">\n",
       "      <th></th>\n",
       "      <th>level</th>\n",
       "      <th>full_log</th>\n",
       "    </tr>\n",
       "  </thead>\n",
       "  <tbody>\n",
       "    <tr>\n",
       "      <th>211221</th>\n",
       "      <td>0</td>\n",
       "      <td>Oct 25 03:54:03 localhost logstash: 7304     S...</td>\n",
       "    </tr>\n",
       "    <tr>\n",
       "      <th>205640</th>\n",
       "      <td>0</td>\n",
       "      <td>Jan 28 10:36:06 localhost logstash: 18862     ...</td>\n",
       "    </tr>\n",
       "    <tr>\n",
       "      <th>28990</th>\n",
       "      <td>0</td>\n",
       "      <td>Feb  8 20:04:25 localhost logstash: [2021-02-0...</td>\n",
       "    </tr>\n",
       "    <tr>\n",
       "      <th>227783</th>\n",
       "      <td>0</td>\n",
       "      <td>Feb 26 14:15:06 localhost logstash: 2468      ...</td>\n",
       "    </tr>\n",
       "    <tr>\n",
       "      <th>97503</th>\n",
       "      <td>0</td>\n",
       "      <td>Nov 25 22:46:00 localhost suricata[1454]: [1:2...</td>\n",
       "    </tr>\n",
       "    <tr>\n",
       "      <th>...</th>\n",
       "      <td>...</td>\n",
       "      <td>...</td>\n",
       "    </tr>\n",
       "    <tr>\n",
       "      <th>471870</th>\n",
       "      <td>3</td>\n",
       "      <td>File '/etc/lpp/diagnostics/data/diagrpt21.dat'...</td>\n",
       "    </tr>\n",
       "    <tr>\n",
       "      <th>472877</th>\n",
       "      <td>3</td>\n",
       "      <td>ossec: output: 'netstat listening ports':\\ntcp...</td>\n",
       "    </tr>\n",
       "    <tr>\n",
       "      <th>472489</th>\n",
       "      <td>3</td>\n",
       "      <td>ossec: output: 'netstat listening ports':\\ntcp...</td>\n",
       "    </tr>\n",
       "    <tr>\n",
       "      <th>471845</th>\n",
       "      <td>3</td>\n",
       "      <td>ossec: output: 'netstat listening ports':\\ntcp...</td>\n",
       "    </tr>\n",
       "    <tr>\n",
       "      <th>472069</th>\n",
       "      <td>3</td>\n",
       "      <td>ossec: output: 'netstat listening ports':\\ntcp...</td>\n",
       "    </tr>\n",
       "  </tbody>\n",
       "</table>\n",
       "<p>199340 rows × 2 columns</p>\n",
       "</div>"
      ],
      "text/plain": [
       "        level                                           full_log\n",
       "211221      0  Oct 25 03:54:03 localhost logstash: 7304     S...\n",
       "205640      0  Jan 28 10:36:06 localhost logstash: 18862     ...\n",
       "28990       0  Feb  8 20:04:25 localhost logstash: [2021-02-0...\n",
       "227783      0  Feb 26 14:15:06 localhost logstash: 2468      ...\n",
       "97503       0  Nov 25 22:46:00 localhost suricata[1454]: [1:2...\n",
       "...       ...                                                ...\n",
       "471870      3  File '/etc/lpp/diagnostics/data/diagrpt21.dat'...\n",
       "472877      3  ossec: output: 'netstat listening ports':\\ntcp...\n",
       "472489      3  ossec: output: 'netstat listening ports':\\ntcp...\n",
       "471845      3  ossec: output: 'netstat listening ports':\\ntcp...\n",
       "472069      3  ossec: output: 'netstat listening ports':\\ntcp...\n",
       "\n",
       "[199340 rows x 2 columns]"
      ]
     },
     "execution_count": 21,
     "metadata": {},
     "output_type": "execute_result"
    }
   ],
   "source": [
    "final_undersampled_df"
   ]
  },
  {
   "cell_type": "code",
   "execution_count": 23,
   "metadata": {},
   "outputs": [
    {
     "data": {
      "text/plain": [
       "level\n",
       "0    100219\n",
       "1     92761\n",
       "2      4141\n",
       "3      2219\n",
       "Name: count, dtype: int64"
      ]
     },
     "execution_count": 23,
     "metadata": {},
     "output_type": "execute_result"
    }
   ],
   "source": [
    "final_undersampled_df['level'].value_counts()"
   ]
  },
  {
   "cell_type": "code",
   "execution_count": 26,
   "metadata": {},
   "outputs": [],
   "source": [
    "final_undersampled_df.to_csv('sample1.csv', index = False)"
   ]
  },
  {
   "cell_type": "markdown",
   "metadata": {},
   "source": [
    "### 2) Undersample Dataset for (0.1, 0.3, 1, 1)"
   ]
  },
  {
   "cell_type": "code",
   "execution_count": 28,
   "metadata": {},
   "outputs": [],
   "source": [
    "undersample_ratios = {0: 0.1, 1: 0.3, 2: 1, 3: 1}\n",
    "\n",
    "class_dfs = {cls: df_merge[df_merge['level'] == cls] for cls in df_merge['level'].unique()}\n",
    "undersampled_dfs = []\n",
    "for cls, ratio in undersample_ratios.items():\n",
    "    n_samples = int(len(class_dfs[cls]) * ratio)\n",
    "    undersampled_df = resample(class_dfs[cls],\n",
    "                               replace=False,  \n",
    "                               n_samples=n_samples, \n",
    "                               random_state=123) \n",
    "    undersampled_dfs.append(undersampled_df)\n",
    "\n",
    "final_undersampled_df2 = pd.concat(undersampled_dfs)"
   ]
  },
  {
   "cell_type": "code",
   "execution_count": 29,
   "metadata": {},
   "outputs": [
    {
     "data": {
      "text/plain": [
       "level\n",
       "1    39755\n",
       "0    33406\n",
       "2     4141\n",
       "3     2219\n",
       "Name: count, dtype: int64"
      ]
     },
     "execution_count": 29,
     "metadata": {},
     "output_type": "execute_result"
    }
   ],
   "source": [
    "final_undersampled_df2['level'].value_counts()"
   ]
  },
  {
   "cell_type": "code",
   "execution_count": 32,
   "metadata": {},
   "outputs": [],
   "source": [
    "final_undersampled_df2.to_csv('sample2.csv', index = False)"
   ]
  },
  {
   "cell_type": "markdown",
   "metadata": {},
   "source": [
    "## 3) Undersample Dataset for the same proportion throughout the data"
   ]
  },
  {
   "cell_type": "code",
   "execution_count": 35,
   "metadata": {},
   "outputs": [
    {
     "name": "stdout",
     "output_type": "stream",
     "text": [
      "level\n",
      "0    2219\n",
      "1    2219\n",
      "2    2219\n",
      "3    2219\n",
      "Name: count, dtype: int64\n"
     ]
    }
   ],
   "source": [
    "classes = df_merge['level'].unique()\n",
    "class_dfs = {cls: df_merge[df_merge['level'] == cls] for cls in classes}\n",
    "min_count = min([len(class_df) for class_df in class_dfs.values()])\n",
    "undersampled_dfs = [resample(class_df, \n",
    "                             replace=False, \n",
    "                             n_samples=min_count, \n",
    "                             random_state=123)  \n",
    "                    for class_df in class_dfs.values()]\n",
    "final_undersampled_df3 = pd.concat(undersampled_dfs)\n",
    "print(final_undersampled_df3['level'].value_counts())"
   ]
  },
  {
   "cell_type": "code",
   "execution_count": 37,
   "metadata": {},
   "outputs": [],
   "source": [
    "final_undersampled_df3.to_csv('sample3.csv', index = False)"
   ]
  }
 ],
 "metadata": {
  "kernelspec": {
   "display_name": "ahnlab",
   "language": "python",
   "name": "python3"
  },
  "language_info": {
   "codemirror_mode": {
    "name": "ipython",
    "version": 3
   },
   "file_extension": ".py",
   "mimetype": "text/x-python",
   "name": "python",
   "nbconvert_exporter": "python",
   "pygments_lexer": "ipython3",
   "version": "3.10.4"
  }
 },
 "nbformat": 4,
 "nbformat_minor": 2
}
